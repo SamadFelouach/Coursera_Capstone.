{
 "cells": [
  {
   "cell_type": "code",
   "execution_count": 1,
   "metadata": {},
   "outputs": [
    {
     "name": "stdout",
     "output_type": "stream",
     "text": [
      "Libraries imported.\n"
     ]
    }
   ],
   "source": [
    "import numpy as np # library to handle data in a vectorized manner\n",
    "\n",
    "import pandas as pd # library for data analsysis\n",
    "pd.set_option(\"display.max_columns\", None)\n",
    "pd.set_option(\"display.max_rows\", None)\n",
    "\n",
    "import json # library to handle JSON files\n",
    "\n",
    "from geopy.geocoders import Nominatim # convert an address into latitude and longitude values\n",
    "\n",
    "import requests # library to handle requests\n",
    "from bs4 import BeautifulSoup # library to parse HTML and XML documents\n",
    "\n",
    "from pandas.io.json import json_normalize # tranform JSON file into a pandas dataframe\n",
    "\n",
    "# Matplotlib and associated plotting modules\n",
    "import matplotlib.cm as cm\n",
    "import matplotlib.colors as colors\n",
    "\n",
    "# import k-means from clustering stage\n",
    "from sklearn.cluster import KMeans\n",
    "\n",
    "import folium # map rendering library\n",
    "\n",
    "print(\"Libraries imported.\")"
   ]
  },
  {
   "cell_type": "markdown",
   "metadata": {},
   "source": [
    "Scrap data from Wikipedia page into a DataFrame\n"
   ]
  },
  {
   "cell_type": "code",
   "execution_count": 2,
   "metadata": {},
   "outputs": [],
   "source": [
    "# send the GET request\n",
    "data = requests.get('https://en.wikipedia.org/wiki/List_of_postal_codes_of_Canada:_M').text"
   ]
  },
  {
   "cell_type": "code",
   "execution_count": 3,
   "metadata": {},
   "outputs": [],
   "source": [
    "# parse data from the html into a beautifulsoup object\n",
    "soup = BeautifulSoup(data, 'html.parser')"
   ]
  },
  {
   "cell_type": "code",
   "execution_count": 17,
   "metadata": {},
   "outputs": [],
   "source": [
    "# create three lists to store table data\n",
    "postalCodeList = []\n",
    "boroughList = []\n",
    "neighborhoodList = []"
   ]
  },
  {
   "cell_type": "markdown",
   "metadata": {},
   "source": [
    "we Use BeautifulSoup"
   ]
  },
  {
   "cell_type": "code",
   "execution_count": 18,
   "metadata": {},
   "outputs": [],
   "source": [
    "\n",
    "# append the data into the respective lists\n",
    "for row in soup.find('table').find_all('tr'):\n",
    "    cells = row.find_all('td')\n",
    "    if(len(cells) > 0):\n",
    "        postalCodeList.append(cells[0].text.rstrip('\\n'))\n",
    "        boroughList.append(cells[1].text.rstrip('\\n'))\n",
    "        neighborhoodList.append(cells[2].text.rstrip('\\n')) # avoid new lines in neighborhood cell"
   ]
  },
  {
   "cell_type": "code",
   "execution_count": 19,
   "metadata": {},
   "outputs": [
    {
     "data": {
      "text/html": [
       "<div>\n",
       "<style scoped>\n",
       "    .dataframe tbody tr th:only-of-type {\n",
       "        vertical-align: middle;\n",
       "    }\n",
       "\n",
       "    .dataframe tbody tr th {\n",
       "        vertical-align: top;\n",
       "    }\n",
       "\n",
       "    .dataframe thead th {\n",
       "        text-align: right;\n",
       "    }\n",
       "</style>\n",
       "<table border=\"1\" class=\"dataframe\">\n",
       "  <thead>\n",
       "    <tr style=\"text-align: right;\">\n",
       "      <th></th>\n",
       "      <th>PostalCode</th>\n",
       "      <th>Borough</th>\n",
       "      <th>Neighborhood</th>\n",
       "    </tr>\n",
       "  </thead>\n",
       "  <tbody>\n",
       "    <tr>\n",
       "      <td>0</td>\n",
       "      <td>M1A</td>\n",
       "      <td>Not assigned</td>\n",
       "      <td></td>\n",
       "    </tr>\n",
       "    <tr>\n",
       "      <td>1</td>\n",
       "      <td>M2A</td>\n",
       "      <td>Not assigned</td>\n",
       "      <td></td>\n",
       "    </tr>\n",
       "    <tr>\n",
       "      <td>2</td>\n",
       "      <td>M3A</td>\n",
       "      <td>North York</td>\n",
       "      <td>Parkwoods</td>\n",
       "    </tr>\n",
       "    <tr>\n",
       "      <td>3</td>\n",
       "      <td>M4A</td>\n",
       "      <td>North York</td>\n",
       "      <td>Victoria Village</td>\n",
       "    </tr>\n",
       "    <tr>\n",
       "      <td>4</td>\n",
       "      <td>M5A</td>\n",
       "      <td>Downtown Toronto</td>\n",
       "      <td>Regent Park / Harbourfront</td>\n",
       "    </tr>\n",
       "  </tbody>\n",
       "</table>\n",
       "</div>"
      ],
      "text/plain": [
       "  PostalCode           Borough                Neighborhood\n",
       "0        M1A      Not assigned                            \n",
       "1        M2A      Not assigned                            \n",
       "2        M3A        North York                   Parkwoods\n",
       "3        M4A        North York            Victoria Village\n",
       "4        M5A  Downtown Toronto  Regent Park / Harbourfront"
      ]
     },
     "execution_count": 19,
     "metadata": {},
     "output_type": "execute_result"
    }
   ],
   "source": [
    "\n",
    "# create a new DataFrame from the three lists\n",
    "toronto_df = pd.DataFrame({\"PostalCode\": postalCodeList,\n",
    "                           \"Borough\": boroughList,\n",
    "                           \"Neighborhood\": neighborhoodList})\n",
    "\n",
    "toronto_df.head()\n"
   ]
  },
  {
   "cell_type": "markdown",
   "metadata": {},
   "source": [
    "we delete cells with a borough that is \"Not assigned\"\n"
   ]
  },
  {
   "cell_type": "code",
   "execution_count": 20,
   "metadata": {},
   "outputs": [
    {
     "data": {
      "text/html": [
       "<div>\n",
       "<style scoped>\n",
       "    .dataframe tbody tr th:only-of-type {\n",
       "        vertical-align: middle;\n",
       "    }\n",
       "\n",
       "    .dataframe tbody tr th {\n",
       "        vertical-align: top;\n",
       "    }\n",
       "\n",
       "    .dataframe thead th {\n",
       "        text-align: right;\n",
       "    }\n",
       "</style>\n",
       "<table border=\"1\" class=\"dataframe\">\n",
       "  <thead>\n",
       "    <tr style=\"text-align: right;\">\n",
       "      <th></th>\n",
       "      <th>PostalCode</th>\n",
       "      <th>Borough</th>\n",
       "      <th>Neighborhood</th>\n",
       "    </tr>\n",
       "  </thead>\n",
       "  <tbody>\n",
       "    <tr>\n",
       "      <td>0</td>\n",
       "      <td>M3A</td>\n",
       "      <td>North York</td>\n",
       "      <td>Parkwoods</td>\n",
       "    </tr>\n",
       "    <tr>\n",
       "      <td>1</td>\n",
       "      <td>M4A</td>\n",
       "      <td>North York</td>\n",
       "      <td>Victoria Village</td>\n",
       "    </tr>\n",
       "    <tr>\n",
       "      <td>2</td>\n",
       "      <td>M5A</td>\n",
       "      <td>Downtown Toronto</td>\n",
       "      <td>Regent Park / Harbourfront</td>\n",
       "    </tr>\n",
       "    <tr>\n",
       "      <td>3</td>\n",
       "      <td>M6A</td>\n",
       "      <td>North York</td>\n",
       "      <td>Lawrence Manor / Lawrence Heights</td>\n",
       "    </tr>\n",
       "    <tr>\n",
       "      <td>4</td>\n",
       "      <td>M7A</td>\n",
       "      <td>Downtown Toronto</td>\n",
       "      <td>Queen's Park / Ontario Provincial Government</td>\n",
       "    </tr>\n",
       "  </tbody>\n",
       "</table>\n",
       "</div>"
      ],
      "text/plain": [
       "  PostalCode           Borough                                  Neighborhood\n",
       "0        M3A        North York                                     Parkwoods\n",
       "1        M4A        North York                              Victoria Village\n",
       "2        M5A  Downtown Toronto                    Regent Park / Harbourfront\n",
       "3        M6A        North York             Lawrence Manor / Lawrence Heights\n",
       "4        M7A  Downtown Toronto  Queen's Park / Ontario Provincial Government"
      ]
     },
     "execution_count": 20,
     "metadata": {},
     "output_type": "execute_result"
    }
   ],
   "source": [
    "\n",
    "# drop cells with a borough that is Not assigned\n",
    "toronto_df_dropna = toronto_df[toronto_df.Borough != \"Not assigned\"].reset_index(drop=True)\n",
    "toronto_df_dropna.head()"
   ]
  },
  {
   "cell_type": "markdown",
   "metadata": {},
   "source": [
    "4. Group neighborhoods in the same borough"
   ]
  },
  {
   "cell_type": "code",
   "execution_count": 21,
   "metadata": {},
   "outputs": [
    {
     "data": {
      "text/html": [
       "<div>\n",
       "<style scoped>\n",
       "    .dataframe tbody tr th:only-of-type {\n",
       "        vertical-align: middle;\n",
       "    }\n",
       "\n",
       "    .dataframe tbody tr th {\n",
       "        vertical-align: top;\n",
       "    }\n",
       "\n",
       "    .dataframe thead th {\n",
       "        text-align: right;\n",
       "    }\n",
       "</style>\n",
       "<table border=\"1\" class=\"dataframe\">\n",
       "  <thead>\n",
       "    <tr style=\"text-align: right;\">\n",
       "      <th></th>\n",
       "      <th>PostalCode</th>\n",
       "      <th>Borough</th>\n",
       "      <th>Neighborhood</th>\n",
       "    </tr>\n",
       "  </thead>\n",
       "  <tbody>\n",
       "    <tr>\n",
       "      <td>0</td>\n",
       "      <td>M1B</td>\n",
       "      <td>Scarborough</td>\n",
       "      <td>Malvern / Rouge</td>\n",
       "    </tr>\n",
       "    <tr>\n",
       "      <td>1</td>\n",
       "      <td>M1C</td>\n",
       "      <td>Scarborough</td>\n",
       "      <td>Rouge Hill / Port Union / Highland Creek</td>\n",
       "    </tr>\n",
       "    <tr>\n",
       "      <td>2</td>\n",
       "      <td>M1E</td>\n",
       "      <td>Scarborough</td>\n",
       "      <td>Guildwood / Morningside / West Hill</td>\n",
       "    </tr>\n",
       "    <tr>\n",
       "      <td>3</td>\n",
       "      <td>M1G</td>\n",
       "      <td>Scarborough</td>\n",
       "      <td>Woburn</td>\n",
       "    </tr>\n",
       "    <tr>\n",
       "      <td>4</td>\n",
       "      <td>M1H</td>\n",
       "      <td>Scarborough</td>\n",
       "      <td>Cedarbrae</td>\n",
       "    </tr>\n",
       "  </tbody>\n",
       "</table>\n",
       "</div>"
      ],
      "text/plain": [
       "  PostalCode      Borough                              Neighborhood\n",
       "0        M1B  Scarborough                           Malvern / Rouge\n",
       "1        M1C  Scarborough  Rouge Hill / Port Union / Highland Creek\n",
       "2        M1E  Scarborough       Guildwood / Morningside / West Hill\n",
       "3        M1G  Scarborough                                    Woburn\n",
       "4        M1H  Scarborough                                 Cedarbrae"
      ]
     },
     "execution_count": 21,
     "metadata": {},
     "output_type": "execute_result"
    }
   ],
   "source": [
    "\n",
    "# group neighborhoods in the same borough\n",
    "toronto_df_grouped = toronto_df_dropna.groupby([\"PostalCode\", \"Borough\"], as_index=False).agg(lambda x: \", \".join(x))\n",
    "toronto_df_grouped.head()"
   ]
  },
  {
   "cell_type": "markdown",
   "metadata": {},
   "source": [
    "For Neighborhood=\"Not assigned\", make the value the same as Borough\n"
   ]
  },
  {
   "cell_type": "code",
   "execution_count": 22,
   "metadata": {},
   "outputs": [
    {
     "data": {
      "text/html": [
       "<div>\n",
       "<style scoped>\n",
       "    .dataframe tbody tr th:only-of-type {\n",
       "        vertical-align: middle;\n",
       "    }\n",
       "\n",
       "    .dataframe tbody tr th {\n",
       "        vertical-align: top;\n",
       "    }\n",
       "\n",
       "    .dataframe thead th {\n",
       "        text-align: right;\n",
       "    }\n",
       "</style>\n",
       "<table border=\"1\" class=\"dataframe\">\n",
       "  <thead>\n",
       "    <tr style=\"text-align: right;\">\n",
       "      <th></th>\n",
       "      <th>PostalCode</th>\n",
       "      <th>Borough</th>\n",
       "      <th>Neighborhood</th>\n",
       "    </tr>\n",
       "  </thead>\n",
       "  <tbody>\n",
       "    <tr>\n",
       "      <td>0</td>\n",
       "      <td>M1B</td>\n",
       "      <td>Scarborough</td>\n",
       "      <td>Malvern / Rouge</td>\n",
       "    </tr>\n",
       "    <tr>\n",
       "      <td>1</td>\n",
       "      <td>M1C</td>\n",
       "      <td>Scarborough</td>\n",
       "      <td>Rouge Hill / Port Union / Highland Creek</td>\n",
       "    </tr>\n",
       "    <tr>\n",
       "      <td>2</td>\n",
       "      <td>M1E</td>\n",
       "      <td>Scarborough</td>\n",
       "      <td>Guildwood / Morningside / West Hill</td>\n",
       "    </tr>\n",
       "    <tr>\n",
       "      <td>3</td>\n",
       "      <td>M1G</td>\n",
       "      <td>Scarborough</td>\n",
       "      <td>Woburn</td>\n",
       "    </tr>\n",
       "    <tr>\n",
       "      <td>4</td>\n",
       "      <td>M1H</td>\n",
       "      <td>Scarborough</td>\n",
       "      <td>Cedarbrae</td>\n",
       "    </tr>\n",
       "  </tbody>\n",
       "</table>\n",
       "</div>"
      ],
      "text/plain": [
       "  PostalCode      Borough                              Neighborhood\n",
       "0        M1B  Scarborough                           Malvern / Rouge\n",
       "1        M1C  Scarborough  Rouge Hill / Port Union / Highland Creek\n",
       "2        M1E  Scarborough       Guildwood / Morningside / West Hill\n",
       "3        M1G  Scarborough                                    Woburn\n",
       "4        M1H  Scarborough                                 Cedarbrae"
      ]
     },
     "execution_count": 22,
     "metadata": {},
     "output_type": "execute_result"
    }
   ],
   "source": [
    "# for Neighborhood=\"Not assigned\", make the value the same as Borough\n",
    "for index, row in toronto_df_grouped.iterrows():\n",
    "    if row[\"Neighborhood\"] == \"Not assigned\":\n",
    "        row[\"Neighborhood\"] = row[\"Borough\"]\n",
    "        \n",
    "toronto_df_grouped.head()"
   ]
  },
  {
   "cell_type": "markdown",
   "metadata": {},
   "source": [
    "Check whether it is the same as required by the question\n"
   ]
  },
  {
   "cell_type": "code",
   "execution_count": 26,
   "metadata": {},
   "outputs": [
    {
     "data": {
      "text/html": [
       "<div>\n",
       "<style scoped>\n",
       "    .dataframe tbody tr th:only-of-type {\n",
       "        vertical-align: middle;\n",
       "    }\n",
       "\n",
       "    .dataframe tbody tr th {\n",
       "        vertical-align: top;\n",
       "    }\n",
       "\n",
       "    .dataframe thead th {\n",
       "        text-align: right;\n",
       "    }\n",
       "</style>\n",
       "<table border=\"1\" class=\"dataframe\">\n",
       "  <thead>\n",
       "    <tr style=\"text-align: right;\">\n",
       "      <th></th>\n",
       "      <th>PostalCode</th>\n",
       "      <th>Borough</th>\n",
       "      <th>Neighborhood</th>\n",
       "    </tr>\n",
       "  </thead>\n",
       "  <tbody>\n",
       "    <tr>\n",
       "      <td>0</td>\n",
       "      <td>M5G</td>\n",
       "      <td>Downtown Toronto</td>\n",
       "      <td>Central Bay Street</td>\n",
       "    </tr>\n",
       "    <tr>\n",
       "      <td>1</td>\n",
       "      <td>M2H</td>\n",
       "      <td>North York</td>\n",
       "      <td>Hillcrest Village</td>\n",
       "    </tr>\n",
       "    <tr>\n",
       "      <td>2</td>\n",
       "      <td>M4B</td>\n",
       "      <td>East York</td>\n",
       "      <td>Parkview Hill / Woodbine Gardens</td>\n",
       "    </tr>\n",
       "    <tr>\n",
       "      <td>3</td>\n",
       "      <td>M1J</td>\n",
       "      <td>Scarborough</td>\n",
       "      <td>Scarborough Village</td>\n",
       "    </tr>\n",
       "    <tr>\n",
       "      <td>4</td>\n",
       "      <td>M4G</td>\n",
       "      <td>East York</td>\n",
       "      <td>Leaside</td>\n",
       "    </tr>\n",
       "    <tr>\n",
       "      <td>5</td>\n",
       "      <td>M4M</td>\n",
       "      <td>East Toronto</td>\n",
       "      <td>Studio District</td>\n",
       "    </tr>\n",
       "    <tr>\n",
       "      <td>6</td>\n",
       "      <td>M1R</td>\n",
       "      <td>Scarborough</td>\n",
       "      <td>Wexford / Maryvale</td>\n",
       "    </tr>\n",
       "    <tr>\n",
       "      <td>7</td>\n",
       "      <td>M9V</td>\n",
       "      <td>Etobicoke</td>\n",
       "      <td>South Steeles / Silverstone / Humbergate / Jam...</td>\n",
       "    </tr>\n",
       "    <tr>\n",
       "      <td>8</td>\n",
       "      <td>M9L</td>\n",
       "      <td>North York</td>\n",
       "      <td>Humber Summit</td>\n",
       "    </tr>\n",
       "    <tr>\n",
       "      <td>9</td>\n",
       "      <td>M5V</td>\n",
       "      <td>Downtown Toronto</td>\n",
       "      <td>CN Tower / King and Spadina / Railway Lands / ...</td>\n",
       "    </tr>\n",
       "    <tr>\n",
       "      <td>10</td>\n",
       "      <td>M1B</td>\n",
       "      <td>Scarborough</td>\n",
       "      <td>Malvern / Rouge</td>\n",
       "    </tr>\n",
       "    <tr>\n",
       "      <td>11</td>\n",
       "      <td>M5A</td>\n",
       "      <td>Downtown Toronto</td>\n",
       "      <td>Regent Park / Harbourfront</td>\n",
       "    </tr>\n",
       "  </tbody>\n",
       "</table>\n",
       "</div>"
      ],
      "text/plain": [
       "   PostalCode           Borough  \\\n",
       "0         M5G  Downtown Toronto   \n",
       "1         M2H        North York   \n",
       "2         M4B         East York   \n",
       "3         M1J       Scarborough   \n",
       "4         M4G         East York   \n",
       "5         M4M      East Toronto   \n",
       "6         M1R       Scarborough   \n",
       "7         M9V         Etobicoke   \n",
       "8         M9L        North York   \n",
       "9         M5V  Downtown Toronto   \n",
       "10        M1B       Scarborough   \n",
       "11        M5A  Downtown Toronto   \n",
       "\n",
       "                                         Neighborhood  \n",
       "0                                  Central Bay Street  \n",
       "1                                   Hillcrest Village  \n",
       "2                    Parkview Hill / Woodbine Gardens  \n",
       "3                                 Scarborough Village  \n",
       "4                                             Leaside  \n",
       "5                                     Studio District  \n",
       "6                                  Wexford / Maryvale  \n",
       "7   South Steeles / Silverstone / Humbergate / Jam...  \n",
       "8                                       Humber Summit  \n",
       "9   CN Tower / King and Spadina / Railway Lands / ...  \n",
       "10                                    Malvern / Rouge  \n",
       "11                         Regent Park / Harbourfront  "
      ]
     },
     "execution_count": 26,
     "metadata": {},
     "output_type": "execute_result"
    }
   ],
   "source": [
    "\n",
    "# create a new test dataframe\n",
    "column_names = [\"PostalCode\", \"Borough\", \"Neighborhood\"]\n",
    "test_df = pd.DataFrame(columns=column_names)\n",
    "\n",
    "test_list = [\"M5G\", \"M2H\", \"M4B\", \"M1J\", \"M4G\", \"M4M\", \"M1R\", \"M9V\", \"M9L\", \"M5V\", \"M1B\", \"M5A\"]\n",
    "\n",
    "for postcode in test_list:\n",
    "    test_df = test_df.append(toronto_df_grouped[toronto_df_grouped[\"PostalCode\"]==postcode], ignore_index=True)\n",
    "    \n",
    "test_df\n",
    "\n"
   ]
  },
  {
   "cell_type": "markdown",
   "metadata": {},
   "source": [
    " Finally, print the number of rows of the cleaned dataframe\n"
   ]
  },
  {
   "cell_type": "code",
   "execution_count": 28,
   "metadata": {},
   "outputs": [
    {
     "data": {
      "text/plain": [
       "(103, 3)"
      ]
     },
     "execution_count": 28,
     "metadata": {},
     "output_type": "execute_result"
    }
   ],
   "source": [
    "\n",
    "# print the number of rows of the cleaned dataframe\n",
    "toronto_df_grouped.shape\n"
   ]
  },
  {
   "cell_type": "markdown",
   "metadata": {},
   "source": [
    "# Parte 2 "
   ]
  },
  {
   "cell_type": "markdown",
   "metadata": {},
   "source": [
    "Load the coordinates from the csv file on Coursera\n"
   ]
  },
  {
   "cell_type": "code",
   "execution_count": 30,
   "metadata": {},
   "outputs": [
    {
     "data": {
      "text/html": [
       "<div>\n",
       "<style scoped>\n",
       "    .dataframe tbody tr th:only-of-type {\n",
       "        vertical-align: middle;\n",
       "    }\n",
       "\n",
       "    .dataframe tbody tr th {\n",
       "        vertical-align: top;\n",
       "    }\n",
       "\n",
       "    .dataframe thead th {\n",
       "        text-align: right;\n",
       "    }\n",
       "</style>\n",
       "<table border=\"1\" class=\"dataframe\">\n",
       "  <thead>\n",
       "    <tr style=\"text-align: right;\">\n",
       "      <th></th>\n",
       "      <th>Postal Code</th>\n",
       "      <th>Latitude</th>\n",
       "      <th>Longitude</th>\n",
       "    </tr>\n",
       "  </thead>\n",
       "  <tbody>\n",
       "    <tr>\n",
       "      <td>0</td>\n",
       "      <td>M1B</td>\n",
       "      <td>43.806686</td>\n",
       "      <td>-79.194353</td>\n",
       "    </tr>\n",
       "    <tr>\n",
       "      <td>1</td>\n",
       "      <td>M1C</td>\n",
       "      <td>43.784535</td>\n",
       "      <td>-79.160497</td>\n",
       "    </tr>\n",
       "    <tr>\n",
       "      <td>2</td>\n",
       "      <td>M1E</td>\n",
       "      <td>43.763573</td>\n",
       "      <td>-79.188711</td>\n",
       "    </tr>\n",
       "    <tr>\n",
       "      <td>3</td>\n",
       "      <td>M1G</td>\n",
       "      <td>43.770992</td>\n",
       "      <td>-79.216917</td>\n",
       "    </tr>\n",
       "    <tr>\n",
       "      <td>4</td>\n",
       "      <td>M1H</td>\n",
       "      <td>43.773136</td>\n",
       "      <td>-79.239476</td>\n",
       "    </tr>\n",
       "  </tbody>\n",
       "</table>\n",
       "</div>"
      ],
      "text/plain": [
       "  Postal Code   Latitude  Longitude\n",
       "0         M1B  43.806686 -79.194353\n",
       "1         M1C  43.784535 -79.160497\n",
       "2         M1E  43.763573 -79.188711\n",
       "3         M1G  43.770992 -79.216917\n",
       "4         M1H  43.773136 -79.239476"
      ]
     },
     "execution_count": 30,
     "metadata": {},
     "output_type": "execute_result"
    }
   ],
   "source": [
    "# load the coordinates from the csv file on Coursera\n",
    "coordinates = pd.read_csv(\"C:/Users/Avicii/Desktop/Samad/Coursera/final course/Geospatial_Coordinates.csv\")\n",
    "coordinates.head()"
   ]
  },
  {
   "cell_type": "code",
   "execution_count": 31,
   "metadata": {},
   "outputs": [
    {
     "data": {
      "text/html": [
       "<div>\n",
       "<style scoped>\n",
       "    .dataframe tbody tr th:only-of-type {\n",
       "        vertical-align: middle;\n",
       "    }\n",
       "\n",
       "    .dataframe tbody tr th {\n",
       "        vertical-align: top;\n",
       "    }\n",
       "\n",
       "    .dataframe thead th {\n",
       "        text-align: right;\n",
       "    }\n",
       "</style>\n",
       "<table border=\"1\" class=\"dataframe\">\n",
       "  <thead>\n",
       "    <tr style=\"text-align: right;\">\n",
       "      <th></th>\n",
       "      <th>PostalCode</th>\n",
       "      <th>Latitude</th>\n",
       "      <th>Longitude</th>\n",
       "    </tr>\n",
       "  </thead>\n",
       "  <tbody>\n",
       "    <tr>\n",
       "      <td>0</td>\n",
       "      <td>M1B</td>\n",
       "      <td>43.806686</td>\n",
       "      <td>-79.194353</td>\n",
       "    </tr>\n",
       "    <tr>\n",
       "      <td>1</td>\n",
       "      <td>M1C</td>\n",
       "      <td>43.784535</td>\n",
       "      <td>-79.160497</td>\n",
       "    </tr>\n",
       "    <tr>\n",
       "      <td>2</td>\n",
       "      <td>M1E</td>\n",
       "      <td>43.763573</td>\n",
       "      <td>-79.188711</td>\n",
       "    </tr>\n",
       "    <tr>\n",
       "      <td>3</td>\n",
       "      <td>M1G</td>\n",
       "      <td>43.770992</td>\n",
       "      <td>-79.216917</td>\n",
       "    </tr>\n",
       "    <tr>\n",
       "      <td>4</td>\n",
       "      <td>M1H</td>\n",
       "      <td>43.773136</td>\n",
       "      <td>-79.239476</td>\n",
       "    </tr>\n",
       "  </tbody>\n",
       "</table>\n",
       "</div>"
      ],
      "text/plain": [
       "  PostalCode   Latitude  Longitude\n",
       "0        M1B  43.806686 -79.194353\n",
       "1        M1C  43.784535 -79.160497\n",
       "2        M1E  43.763573 -79.188711\n",
       "3        M1G  43.770992 -79.216917\n",
       "4        M1H  43.773136 -79.239476"
      ]
     },
     "execution_count": 31,
     "metadata": {},
     "output_type": "execute_result"
    }
   ],
   "source": [
    "# rename the column \"PostalCode\"\n",
    "coordinates.rename(columns={\"Postal Code\": \"PostalCode\"}, inplace=True)\n",
    "coordinates.head()"
   ]
  },
  {
   "cell_type": "markdown",
   "metadata": {},
   "source": [
    "Merge two tables to get the coordinates\n"
   ]
  },
  {
   "cell_type": "code",
   "execution_count": 32,
   "metadata": {},
   "outputs": [
    {
     "data": {
      "text/html": [
       "<div>\n",
       "<style scoped>\n",
       "    .dataframe tbody tr th:only-of-type {\n",
       "        vertical-align: middle;\n",
       "    }\n",
       "\n",
       "    .dataframe tbody tr th {\n",
       "        vertical-align: top;\n",
       "    }\n",
       "\n",
       "    .dataframe thead th {\n",
       "        text-align: right;\n",
       "    }\n",
       "</style>\n",
       "<table border=\"1\" class=\"dataframe\">\n",
       "  <thead>\n",
       "    <tr style=\"text-align: right;\">\n",
       "      <th></th>\n",
       "      <th>PostalCode</th>\n",
       "      <th>Borough</th>\n",
       "      <th>Neighborhood</th>\n",
       "      <th>Latitude</th>\n",
       "      <th>Longitude</th>\n",
       "    </tr>\n",
       "  </thead>\n",
       "  <tbody>\n",
       "    <tr>\n",
       "      <td>0</td>\n",
       "      <td>M1B</td>\n",
       "      <td>Scarborough</td>\n",
       "      <td>Malvern / Rouge</td>\n",
       "      <td>43.806686</td>\n",
       "      <td>-79.194353</td>\n",
       "    </tr>\n",
       "    <tr>\n",
       "      <td>1</td>\n",
       "      <td>M1C</td>\n",
       "      <td>Scarborough</td>\n",
       "      <td>Rouge Hill / Port Union / Highland Creek</td>\n",
       "      <td>43.784535</td>\n",
       "      <td>-79.160497</td>\n",
       "    </tr>\n",
       "    <tr>\n",
       "      <td>2</td>\n",
       "      <td>M1E</td>\n",
       "      <td>Scarborough</td>\n",
       "      <td>Guildwood / Morningside / West Hill</td>\n",
       "      <td>43.763573</td>\n",
       "      <td>-79.188711</td>\n",
       "    </tr>\n",
       "    <tr>\n",
       "      <td>3</td>\n",
       "      <td>M1G</td>\n",
       "      <td>Scarborough</td>\n",
       "      <td>Woburn</td>\n",
       "      <td>43.770992</td>\n",
       "      <td>-79.216917</td>\n",
       "    </tr>\n",
       "    <tr>\n",
       "      <td>4</td>\n",
       "      <td>M1H</td>\n",
       "      <td>Scarborough</td>\n",
       "      <td>Cedarbrae</td>\n",
       "      <td>43.773136</td>\n",
       "      <td>-79.239476</td>\n",
       "    </tr>\n",
       "  </tbody>\n",
       "</table>\n",
       "</div>"
      ],
      "text/plain": [
       "  PostalCode      Borough                              Neighborhood  \\\n",
       "0        M1B  Scarborough                           Malvern / Rouge   \n",
       "1        M1C  Scarborough  Rouge Hill / Port Union / Highland Creek   \n",
       "2        M1E  Scarborough       Guildwood / Morningside / West Hill   \n",
       "3        M1G  Scarborough                                    Woburn   \n",
       "4        M1H  Scarborough                                 Cedarbrae   \n",
       "\n",
       "    Latitude  Longitude  \n",
       "0  43.806686 -79.194353  \n",
       "1  43.784535 -79.160497  \n",
       "2  43.763573 -79.188711  \n",
       "3  43.770992 -79.216917  \n",
       "4  43.773136 -79.239476  "
      ]
     },
     "execution_count": 32,
     "metadata": {},
     "output_type": "execute_result"
    }
   ],
   "source": [
    "# merge two table on the column \"PostalCode\"\n",
    "toronto_df_new = toronto_df_grouped.merge(coordinates, on=\"PostalCode\", how=\"left\")\n",
    "toronto_df_new.head()"
   ]
  },
  {
   "cell_type": "markdown",
   "metadata": {},
   "source": [
    "Finally, check to make sure the coordinates are added as required by the question"
   ]
  },
  {
   "cell_type": "code",
   "execution_count": 33,
   "metadata": {},
   "outputs": [
    {
     "data": {
      "text/html": [
       "<div>\n",
       "<style scoped>\n",
       "    .dataframe tbody tr th:only-of-type {\n",
       "        vertical-align: middle;\n",
       "    }\n",
       "\n",
       "    .dataframe tbody tr th {\n",
       "        vertical-align: top;\n",
       "    }\n",
       "\n",
       "    .dataframe thead th {\n",
       "        text-align: right;\n",
       "    }\n",
       "</style>\n",
       "<table border=\"1\" class=\"dataframe\">\n",
       "  <thead>\n",
       "    <tr style=\"text-align: right;\">\n",
       "      <th></th>\n",
       "      <th>PostalCode</th>\n",
       "      <th>Borough</th>\n",
       "      <th>Neighborhood</th>\n",
       "      <th>Latitude</th>\n",
       "      <th>Longitude</th>\n",
       "    </tr>\n",
       "  </thead>\n",
       "  <tbody>\n",
       "    <tr>\n",
       "      <td>0</td>\n",
       "      <td>M5G</td>\n",
       "      <td>Downtown Toronto</td>\n",
       "      <td>Central Bay Street</td>\n",
       "      <td>43.657952</td>\n",
       "      <td>-79.387383</td>\n",
       "    </tr>\n",
       "    <tr>\n",
       "      <td>1</td>\n",
       "      <td>M2H</td>\n",
       "      <td>North York</td>\n",
       "      <td>Hillcrest Village</td>\n",
       "      <td>43.803762</td>\n",
       "      <td>-79.363452</td>\n",
       "    </tr>\n",
       "    <tr>\n",
       "      <td>2</td>\n",
       "      <td>M4B</td>\n",
       "      <td>East York</td>\n",
       "      <td>Parkview Hill / Woodbine Gardens</td>\n",
       "      <td>43.706397</td>\n",
       "      <td>-79.309937</td>\n",
       "    </tr>\n",
       "    <tr>\n",
       "      <td>3</td>\n",
       "      <td>M1J</td>\n",
       "      <td>Scarborough</td>\n",
       "      <td>Scarborough Village</td>\n",
       "      <td>43.744734</td>\n",
       "      <td>-79.239476</td>\n",
       "    </tr>\n",
       "    <tr>\n",
       "      <td>4</td>\n",
       "      <td>M4G</td>\n",
       "      <td>East York</td>\n",
       "      <td>Leaside</td>\n",
       "      <td>43.709060</td>\n",
       "      <td>-79.363452</td>\n",
       "    </tr>\n",
       "    <tr>\n",
       "      <td>5</td>\n",
       "      <td>M4M</td>\n",
       "      <td>East Toronto</td>\n",
       "      <td>Studio District</td>\n",
       "      <td>43.659526</td>\n",
       "      <td>-79.340923</td>\n",
       "    </tr>\n",
       "    <tr>\n",
       "      <td>6</td>\n",
       "      <td>M1R</td>\n",
       "      <td>Scarborough</td>\n",
       "      <td>Wexford / Maryvale</td>\n",
       "      <td>43.750072</td>\n",
       "      <td>-79.295849</td>\n",
       "    </tr>\n",
       "    <tr>\n",
       "      <td>7</td>\n",
       "      <td>M9V</td>\n",
       "      <td>Etobicoke</td>\n",
       "      <td>South Steeles / Silverstone / Humbergate / Jam...</td>\n",
       "      <td>43.739416</td>\n",
       "      <td>-79.588437</td>\n",
       "    </tr>\n",
       "    <tr>\n",
       "      <td>8</td>\n",
       "      <td>M9L</td>\n",
       "      <td>North York</td>\n",
       "      <td>Humber Summit</td>\n",
       "      <td>43.756303</td>\n",
       "      <td>-79.565963</td>\n",
       "    </tr>\n",
       "    <tr>\n",
       "      <td>9</td>\n",
       "      <td>M5V</td>\n",
       "      <td>Downtown Toronto</td>\n",
       "      <td>CN Tower / King and Spadina / Railway Lands / ...</td>\n",
       "      <td>43.628947</td>\n",
       "      <td>-79.394420</td>\n",
       "    </tr>\n",
       "    <tr>\n",
       "      <td>10</td>\n",
       "      <td>M1B</td>\n",
       "      <td>Scarborough</td>\n",
       "      <td>Malvern / Rouge</td>\n",
       "      <td>43.806686</td>\n",
       "      <td>-79.194353</td>\n",
       "    </tr>\n",
       "    <tr>\n",
       "      <td>11</td>\n",
       "      <td>M5A</td>\n",
       "      <td>Downtown Toronto</td>\n",
       "      <td>Regent Park / Harbourfront</td>\n",
       "      <td>43.654260</td>\n",
       "      <td>-79.360636</td>\n",
       "    </tr>\n",
       "  </tbody>\n",
       "</table>\n",
       "</div>"
      ],
      "text/plain": [
       "   PostalCode           Borough  \\\n",
       "0         M5G  Downtown Toronto   \n",
       "1         M2H        North York   \n",
       "2         M4B         East York   \n",
       "3         M1J       Scarborough   \n",
       "4         M4G         East York   \n",
       "5         M4M      East Toronto   \n",
       "6         M1R       Scarborough   \n",
       "7         M9V         Etobicoke   \n",
       "8         M9L        North York   \n",
       "9         M5V  Downtown Toronto   \n",
       "10        M1B       Scarborough   \n",
       "11        M5A  Downtown Toronto   \n",
       "\n",
       "                                         Neighborhood   Latitude  Longitude  \n",
       "0                                  Central Bay Street  43.657952 -79.387383  \n",
       "1                                   Hillcrest Village  43.803762 -79.363452  \n",
       "2                    Parkview Hill / Woodbine Gardens  43.706397 -79.309937  \n",
       "3                                 Scarborough Village  43.744734 -79.239476  \n",
       "4                                             Leaside  43.709060 -79.363452  \n",
       "5                                     Studio District  43.659526 -79.340923  \n",
       "6                                  Wexford / Maryvale  43.750072 -79.295849  \n",
       "7   South Steeles / Silverstone / Humbergate / Jam...  43.739416 -79.588437  \n",
       "8                                       Humber Summit  43.756303 -79.565963  \n",
       "9   CN Tower / King and Spadina / Railway Lands / ...  43.628947 -79.394420  \n",
       "10                                    Malvern / Rouge  43.806686 -79.194353  \n",
       "11                         Regent Park / Harbourfront  43.654260 -79.360636  "
      ]
     },
     "execution_count": 33,
     "metadata": {},
     "output_type": "execute_result"
    }
   ],
   "source": [
    "# create a new test dataframe\n",
    "column_names = [\"PostalCode\", \"Borough\", \"Neighborhood\", \"Latitude\", \"Longitude\"]\n",
    "test_df = pd.DataFrame(columns=column_names)\n",
    "\n",
    "test_list = [\"M5G\", \"M2H\", \"M4B\", \"M1J\", \"M4G\", \"M4M\", \"M1R\", \"M9V\", \"M9L\", \"M5V\", \"M1B\", \"M5A\"]\n",
    "\n",
    "for postcode in test_list:\n",
    "    test_df = test_df.append(toronto_df_new[toronto_df_new[\"PostalCode\"]==postcode], ignore_index=True)\n",
    "    \n",
    "test_df"
   ]
  },
  {
   "cell_type": "markdown",
   "metadata": {},
   "source": [
    "# Part3:Explore and cluster the neighborhoods in Toronto"
   ]
  },
  {
   "cell_type": "markdown",
   "metadata": {},
   "source": [
    "Use geopy library to get the latitude and longitude values of Toronto"
   ]
  },
  {
   "cell_type": "code",
   "execution_count": 34,
   "metadata": {},
   "outputs": [
    {
     "name": "stdout",
     "output_type": "stream",
     "text": [
      "The geograpical coordinate of Toronto are 43.6534817, -79.3839347.\n"
     ]
    }
   ],
   "source": [
    "address = 'Toronto'\n",
    "\n",
    "geolocator = Nominatim(user_agent=\"my-application\")\n",
    "location = geolocator.geocode(address)\n",
    "latitude = location.latitude\n",
    "longitude = location.longitude\n",
    "print('The geograpical coordinate of Toronto are {}, {}.'.format(latitude, longitude))"
   ]
  },
  {
   "cell_type": "markdown",
   "metadata": {},
   "source": [
    "Create a map of Toronto with neighborhoods superimposed on top"
   ]
  },
  {
   "cell_type": "code",
   "execution_count": 35,
   "metadata": {},
   "outputs": [
    {
     "data": {
      "text/html": [
       "<div style=\"width:100%;\"><div style=\"position:relative;width:100%;height:0;padding-bottom:60%;\"><iframe src=\"about:blank\" style=\"position:absolute;width:100%;height:100%;left:0;top:0;border:none !important;\" data-html=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 onload=\"this.contentDocument.open();this.contentDocument.write(atob(this.getAttribute('data-html')));this.contentDocument.close();\" allowfullscreen webkitallowfullscreen mozallowfullscreen></iframe></div></div>"
      ],
      "text/plain": [
       "<folium.folium.Map at 0x1f6f0823b08>"
      ]
     },
     "execution_count": 35,
     "metadata": {},
     "output_type": "execute_result"
    }
   ],
   "source": [
    "# create map of Toronto using latitude and longitude values\n",
    "map_toronto = folium.Map(location=[latitude, longitude], zoom_start=10)\n",
    "\n",
    "# add markers to map\n",
    "for lat, lng, borough, neighborhood in zip(toronto_df_new['Latitude'], toronto_df_new['Longitude'], toronto_df_new['Borough'], toronto_df_new['Neighborhood']):\n",
    "    label = '{}, {}'.format(neighborhood, borough)\n",
    "    label = folium.Popup(label, parse_html=True)\n",
    "    folium.CircleMarker(\n",
    "        [lat, lng],\n",
    "        radius=5,\n",
    "        popup=label,\n",
    "        color='blue',\n",
    "        fill=True,\n",
    "        fill_color='#3186cc',\n",
    "        fill_opacity=0.7).add_to(map_toronto)  \n",
    "    \n",
    "map_toronto"
   ]
  },
  {
   "cell_type": "markdown",
   "metadata": {},
   "source": [
    " Filter only boroughs that contain the word Toronto"
   ]
  },
  {
   "cell_type": "code",
   "execution_count": null,
   "metadata": {},
   "outputs": [],
   "source": []
  }
 ],
 "metadata": {
  "kernelspec": {
   "display_name": "Python 3",
   "language": "python",
   "name": "python3"
  },
  "language_info": {
   "codemirror_mode": {
    "name": "ipython",
    "version": 3
   },
   "file_extension": ".py",
   "mimetype": "text/x-python",
   "name": "python",
   "nbconvert_exporter": "python",
   "pygments_lexer": "ipython3",
   "version": "3.7.4"
  }
 },
 "nbformat": 4,
 "nbformat_minor": 2
}
